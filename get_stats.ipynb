{
 "cells": [
  {
   "cell_type": "code",
   "execution_count": 34,
   "metadata": {},
   "outputs": [],
   "source": [
    "import numpy as np\n",
    "import pandas as pd\n",
    "import requests\n",
    "import json"
   ]
  },
  {
   "cell_type": "code",
   "execution_count": 5,
   "metadata": {},
   "outputs": [],
   "source": [
    "def load_list(name):\n",
    "    file_name = name + '_list.csv'\n",
    "    id_list = pd.read_csv(file_name)\n",
    "    return id_list"
   ]
  },
  {
   "cell_type": "code",
   "execution_count": 18,
   "metadata": {},
   "outputs": [],
   "source": [
    "HERO_NAME = 'ana'"
   ]
  },
  {
   "cell_type": "code",
   "execution_count": 19,
   "metadata": {},
   "outputs": [],
   "source": [
    "id_list = load_list(HERO_NAME)\n",
    "id_list = id_list.iloc[:,1].tolist()\n"
   ]
  },
  {
   "cell_type": "code",
   "execution_count": 62,
   "metadata": {},
   "outputs": [
    {
     "name": "stdout",
     "output_type": "stream",
     "text": [
      "https://overfast-api.tekrop.fr/players/Cooper-12473/stats\n",
      "[{'key': 'scoped_accuracy_best_in_game', 'label': 'Scoped Accuracy - Best in Game', 'value': 75}, {'key': 'self_healing', 'label': 'Self Healing', 'value': 1780}, {'key': 'self_healing_most_in_game', 'label': 'Self Healing - Most in Game', 'value': 907}, {'key': 'enemies_slept', 'label': 'Enemies Slept', 'value': 45}, {'key': 'nano_boost_assists', 'label': 'Nano Boost Assists', 'value': 13}, {'key': 'unscoped_accuracy_best_in_game', 'label': 'Unscoped Accuracy - Best in Game', 'value': 75}, {'key': 'enemies_slept_most_in_game', 'label': 'Enemies Slept - Most in Game', 'value': 15}, {'key': 'nano_boost_assists_most_in_game', 'label': 'Nano Boost Assists - Most in Game', 'value': 6}, {'key': 'biotic_grenade_kills', 'label': 'Biotic Grenade Kills', 'value': 27}, {'key': 'damage_amplified', 'label': 'Damage Amplified', 'value': 3680}, {'key': 'damage_amplified_most_in_game', 'label': 'Damage Amplified - Most in Game', 'value': 1710}, {'key': 'healing_amplified', 'label': 'Healing Amplified', 'value': 3142}, {'key': 'healing_amplified_most_in_game', 'label': 'Healing Amplified - Most in Game', 'value': 1284}, {'key': 'self_healing_avg_per_10_min', 'label': 'Self Healing - Avg per 10 Min', 'value': 434}, {'key': 'damage_amplified_avg_per_10_min', 'label': 'Damage Amplified - Avg per 10 Min', 'value': 898}, {'key': 'scoped_accuracy', 'label': 'Scoped Accuracy', 'value': 64}, {'key': 'biotic_grenade_kills_avg_per_10_min', 'label': 'Biotic Grenade Kills - Avg per 10 Min', 'value': 6.59}, {'key': 'healing_amplified_avg_per_10_min', 'label': 'Healing Amplified - Avg per 10 Min', 'value': 767}, {'key': 'enemies_slept_avg_per_10_min', 'label': 'Enemies Slept - Avg per 10 Min', 'value': 10.98}, {'key': 'unscoped_accuracy', 'label': 'Unscoped Accuracy', 'value': 61}, {'key': 'nano_boost_assists_avg_per_10_min', 'label': 'Nano Boost Assists - Avg per 10 Min', 'value': 3.17}]\n",
      "{'category': 'average', 'label': 'Average', 'stats': [{'key': 'objective_time_avg_per_10_min', 'label': 'Objective Time - Avg per 10 Min', 'value': 47}, {'key': 'all_damage_done_avg_per_10_min', 'label': 'All Damage Done - Avg per 10 Min', 'value': 5118}, {'key': 'final_blows_avg_per_10_min', 'label': 'Final Blows - Avg per 10 Min', 'value': 2.2}, {'key': 'eliminations_per_life', 'label': 'Eliminations per Life', 'value': 2.55}, {'key': 'objective_kills_avg_per_10_min', 'label': 'Objective Kills - Avg per 10 Min', 'value': 5.37}, {'key': 'obj_contest_time_avg_per_10_min', 'label': 'Obj Contest Time - Avg per 10 Min', 'value': 30}, {'key': 'solo_kills_avg_per_10_min', 'label': 'Solo Kills - Avg per 10 Min', 'value': 0.24}, {'key': 'deaths_avg_per_10_min', 'label': 'Deaths - Avg per 10 Min', 'value': 4.88}, {'key': 'healing_done_avg_per_10_min', 'label': 'Healing Done - Avg per 10 Min', 'value': 12836}, {'key': 'hero_damage_done_avg_per_10_min', 'label': 'Hero Damage Done - Avg per 10 Min', 'value': 4214}, {'key': 'assists_avg_per_10_min', 'label': 'Assists - Avg per 10 min', 'value': 18.31}, {'key': 'eliminations_avg_per_10_min', 'label': 'Eliminations - Avg per 10 Min', 'value': 12.45}]}\n"
     ]
    }
   ],
   "source": [
    "\n",
    "player_id = 'Cooper-12473'\n",
    "api_url = f\"https://overfast-api.tekrop.fr/players/{player_id}/stats\"\n",
    "print(api_url)\n",
    "payload = {'gamemode':'competitive', 'platform':'pc','hero':HERO_NAME}\n",
    "response = requests.get(api_url, params=payload)\n",
    "#print(response.text)\n",
    "stats = json.loads(response.text)\n",
    "stats = stats[HERO_NAME]\n",
    "game_time_stats = stats[3]\n",
    "stats_hero = stats[0]['stats']\n",
    "stats_avg = stats[2]['stats']\n",
    "print(stats_hero)\n",
    "#clean_stats = dict(list(stats_hero.items())+list(stats_avg.items()))\n",
    "#clean_stats.update(stats_hero)\n",
    "#clean_stats.update(stats_avg)\n",
    "\n",
    "print(clean_stats)\n"
   ]
  }
 ],
 "metadata": {
  "kernelspec": {
   "display_name": "Python 3.9.12 ('base')",
   "language": "python",
   "name": "python3"
  },
  "language_info": {
   "codemirror_mode": {
    "name": "ipython",
    "version": 3
   },
   "file_extension": ".py",
   "mimetype": "text/x-python",
   "name": "python",
   "nbconvert_exporter": "python",
   "pygments_lexer": "ipython3",
   "version": "3.9.12"
  },
  "orig_nbformat": 4,
  "vscode": {
   "interpreter": {
    "hash": "6348ae619679160b7c4eb3059400317fdbcd53b5d39fa37dfdaff890db0f86fb"
   }
  }
 },
 "nbformat": 4,
 "nbformat_minor": 2
}
